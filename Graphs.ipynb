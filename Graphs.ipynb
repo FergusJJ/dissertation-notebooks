{
 "cells": [
  {
   "cell_type": "code",
   "execution_count": null,
   "id": "0",
   "metadata": {},
   "outputs": [],
   "source": [
    "import pandas as pd\n",
    "import numpy as np\n",
    "\n",
    "df = pd.read_parquet(\"./data/processed/deepchem_mol2vec.parquet\")\n",
    "\n",
    "exp_logp = df[\"exp\"]\n",
    "labels = df[\"exp\"].to_numpy() \n",
    "features = df.drop([\"exp\",\"smiles\", \"CMPD_CHEMBLID\"], axis = 1)\n",
    "features = features.to_numpy()\n",
    "labels = labels.reshape(-1, 1)\n",
    "features = np.stack(features.squeeze())"
   ]
  },
  {
   "cell_type": "code",
   "execution_count": null,
   "id": "1",
   "metadata": {},
   "outputs": [],
   "source": [
    "extended_df = pd.read_parquet(\"./data/processed/deepchem_extended_mol2vec_300.parquet\")\n",
    "extended_features = extended_df.drop([\"exp\", \"smiles\", \"CMPD_CHEMBLID\"], axis=1)\n",
    "\n",
    "mol2vec_col = extended_df[\"mol2vec\"]\n",
    "extended_descriptors = [\n",
    "    \"molwt\", \"clogp\", \"hba\", \"hbd\",\n",
    "    \"tpsa\",\n",
    "    \"num_rotatable_bonds\",\n",
    "    \"num_rings\",\n",
    "    \"num_aromatic_rings\",\n",
    "    \"fraction_csp3\",\n",
    "    \"num_heavy_atoms\",\n",
    "    \"num_valence_electrons\"]\n",
    "\n",
    "\n",
    "features_mol2vec = np.array(mol2vec_col.tolist(), dtype=np.float64)\n",
    "features_descriptors = extended_df[extended_descriptors].to_numpy(dtype=np.float64)\n",
    "\n",
    "extended_features = np.hstack((features_mol2vec, features_descriptors))"
   ]
  },
  {
   "cell_type": "code",
   "execution_count": null,
   "id": "2",
   "metadata": {},
   "outputs": [],
   "source": [
    "import seaborn as sns\n",
    "import matplotlib.pyplot as plt\n",
    "\n",
    "labels = labels.ravel()\n",
    "abs_min = abs(min(labels))\n",
    "\n",
    "shift_min_0 = labels + abs_min + 1\n",
    "y_log = np.log(shift_min_0)\n",
    "\n",
    "def plot_distribution(labels, save=False):\n",
    "    plt.figure(figsize=(10, 6))\n",
    "    sns.histplot(data=labels, kde=True)\n",
    "    plt.xlabel(\"Values\")\n",
    "    plt.ylabel(\"Count\")\n",
    "    plt.title(\"Distribution of Values\")\n",
    "    plt.grid(True, alpha=0.3)\n",
    "    if save:\n",
    "        plt.savefig(\"data_distributions.png\")\n",
    "    plt.show()\n",
    "\n",
    "plot_distribution(labels, save=False)\n",
    "plot_distribution(y_log)\n",
    "\n",
    "def std_ddof1(x):\n",
    "    return x.std(ddof=1)\n",
    "\n",
    "\n",
    "\n",
    "out = exp_logp.agg(['mean','sum',std_ddof1, 'min', 'max'])\n",
    "num_negative_vals = sum(df[\"exp\"] < 0)\n",
    "\n",
    "print (out)\n",
    "print(f\"Negative values: {num_negative_vals}\")"
   ]
  },
  {
   "cell_type": "code",
   "execution_count": null,
   "id": "3",
   "metadata": {},
   "outputs": [],
   "source": [
    "from sklearn.manifold import TSNE\n",
    "from sklearn.decomposition import PCA\n",
    "\n",
    "tsne_df = pd.read_parquet(\"./data/processed/deepchem_mol2vec.parquet\")\n",
    "m2v = tsne_df.drop([\"CMPD_CHEMBLID\", \"smiles\", \"exp\"], axis=1)\n",
    "\n",
    "m2v = np.stack(np.squeeze(m2v))\n",
    "pca25 = PCA(n_components=25)\n",
    "m2v25 = pca25.fit_transform(m2v)\n",
    "\n",
    "print(f\"Total Explained Variance: {sum(pca25.explained_variance_ratio_)}\\nExplained Variances: {pca25.explained_variance_ratio_}\")\n",
    "\n",
    "tsne30 = TSNE(n_components=3, learning_rate=\"auto\", perplexity=30).fit_transform(m2v25)\n",
    "tsne50 = TSNE(n_components=3, learning_rate=\"auto\", perplexity=50).fit_transform(m2v25)\n",
    "\n",
    "logp_values = tsne_df[\"exp\"].values\n"
   ]
  },
  {
   "cell_type": "code",
   "execution_count": null,
   "id": "4",
   "metadata": {},
   "outputs": [],
   "source": [
    "fig = plt.figure(figsize=(15, 12))\n",
    "ax1 = fig.add_subplot(111, projection=\"3d\")\n",
    "scatter3 = ax1.scatter(tsne30[:,0],tsne30[:,1],tsne30[:,2],\n",
    "                     c=logp_values,\n",
    "                     cmap=\"coolwarm\",\n",
    "                     alpha=0.7,\n",
    "                     s=30)\n",
    "ax1.set_xlabel(\"t-SNE dimension 1\")\n",
    "ax1.set_ylabel(\"t-SNE dimension 2\")\n",
    "plt.colorbar(scatter3, ax=ax1, label=\"Experimental LogP\")\n",
    "ax1.set_title(\"Perplexity 30\")"
   ]
  },
  {
   "cell_type": "code",
   "execution_count": null,
   "id": "5",
   "metadata": {},
   "outputs": [],
   "source": []
  }
 ],
 "metadata": {
  "kernelspec": {
   "display_name": "Python 3 (ipykernel)",
   "language": "python",
   "name": "python3"
  },
  "language_info": {
   "codemirror_mode": {
    "name": "ipython",
    "version": 3
   },
   "file_extension": ".py",
   "mimetype": "text/x-python",
   "name": "python",
   "nbconvert_exporter": "python",
   "pygments_lexer": "ipython3",
   "version": "3.9.6"
  }
 },
 "nbformat": 4,
 "nbformat_minor": 5
}
